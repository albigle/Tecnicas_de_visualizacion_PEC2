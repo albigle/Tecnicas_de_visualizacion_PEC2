{
 "cells": [
  {
   "cell_type": "code",
   "execution_count": 9,
   "id": "7aa7d823-022a-4193-ac59-56652ac808a9",
   "metadata": {},
   "outputs": [
    {
     "name": "stdout",
     "output_type": "stream",
     "text": [
      "   country_2016  country_count earliest_country\n",
      "0            GB            342               ES\n",
      "1            US            276               ES\n",
      "2            PT            165               ES\n",
      "3            FR            112               ES\n",
      "4            DE            103               ES\n",
      "..          ...            ...              ...\n",
      "72           HK              1               ES\n",
      "73           NG              1               ES\n",
      "74           DZ              1               ES\n",
      "75           CM              1               ES\n",
      "76           OM              1               ES\n",
      "\n",
      "[77 rows x 3 columns]\n"
     ]
    }
   ],
   "source": [
    "import pandas as pd\n",
    "\n",
    "# Cargamos el archivo CSV (https://datadryad.org/stash/dataset/doi:10.5061/dryad.48s16)\n",
    "df = pd.read_csv(\"ORCID_migrations_2016_12_16_by_person.csv\")\n",
    "\n",
    "# Suponemos que son españoles todos aquellos cuyo valor en el campo earliest_country sea ES\n",
    "# Si se han ido de españa el booleano has_migrated será TRUE\n",
    "# También tenemos en cuenta que en 2016 no se encuentren en Espeña (es decir que residan en el extranjero)\n",
    "df_filtrado = df[((df['earliest_country'] == 'ES')) & (df['has_migrated'] == True) & (df['earliest_country'] != df['country_2016'])]\n",
    "\n",
    "# Contamos donde en que paises se encuentran estos investigadores\n",
    "conteo_paises = df_filtrado['country_2016'].value_counts().reset_index()\n",
    "conteo_paises.columns = ['country_2016', 'country_count']\n",
    "\n",
    "# Agregamos una columna constante 'earliest_country' con el valor 'ES', para el flowmap\n",
    "conteo_paises['earliest_country'] = 'ES'\n",
    "\n",
    "# Mostramos resultados\n",
    "print(conteo_paises)\n",
    "\n",
    "conteo_paises.to_csv(\"cientificos_fuera_de_espanya.csv\", index=True)\n",
    "\n",
    "# Resultado del flowmap: https://app.flowmap.city/public/02e008a1-eb29-4eff-b1cf-7dc9699e3fd4"
   ]
  }
 ],
 "metadata": {
  "kernelspec": {
   "display_name": "Python 3 (ipykernel)",
   "language": "python",
   "name": "python3"
  },
  "language_info": {
   "codemirror_mode": {
    "name": "ipython",
    "version": 3
   },
   "file_extension": ".py",
   "mimetype": "text/x-python",
   "name": "python",
   "nbconvert_exporter": "python",
   "pygments_lexer": "ipython3",
   "version": "3.12.2"
  }
 },
 "nbformat": 4,
 "nbformat_minor": 5
}
